{
 "cells": [
  {
   "cell_type": "markdown",
   "metadata": {},
   "source": [
    "# GUI APPLICATION"
   ]
  },
  {
   "cell_type": "code",
   "execution_count": 6,
   "metadata": {},
   "outputs": [
    {
     "data": {
      "application/vnd.jupyter.widget-view+json": {
       "model_id": "9e86e8c37185488a9b716637e0558228",
       "version_major": 2,
       "version_minor": 0
      },
      "text/plain": [
       "Button(description='File select', style=ButtonStyle())"
      ]
     },
     "metadata": {},
     "output_type": "display_data"
    }
   ],
   "source": [
    "#start of predefine code\n",
    "import pandas as pd\n",
    "from ipywidgets import Button, Dropdown, Output, VBox, Layout, widgets\n",
    "from IPython.display import display\n",
    "from tkinter import Tk, filedialog\n",
    "import matplotlib.pyplot as plt \n",
    "import numpy as np\n",
    "\n",
    "graph_type = ['Choose one.. ','bubble','bar']\n",
    "funtionality = ['Choose One','Sort','Filter']\n",
    "sort_option = ['ascending','descending']\n",
    "df = ''\n",
    "new_df = ''\n",
    "input_box = ''\n",
    "input_fontsize = ''\n",
    "input_title = ''\n",
    "#end of predefine code\n",
    "\n",
    "def select_files(b):\n",
    "    # Create a Tkinter window and hide it\n",
    "    root = Tk()\n",
    "    root.withdraw()\n",
    "\n",
    "    # Get path of CSV file using file dialog\n",
    "    file_path = filedialog.askopenfilename(filetypes=[(\"CSV Files\", \"*.csv\")])\n",
    "\n",
    "    # Read data from CSV into a Pandas DataFrame\n",
    "    data = pd.read_csv(file_path)\n",
    "\n",
    "    # Create a drop-down menu for selecting a column to operate on\n",
    "    column_dropdown = widgets.Dropdown(options=data.columns.tolist(), description=\"Select Column:\")\n",
    "\n",
    "    # Create buttons for sorting and filtering\n",
    "    sort_button = widgets.Button(description=\"Sort\")\n",
    "    filter_button = widgets.Button(description=\"Filter\")\n",
    "\n",
    "    # Create input box for filter value\n",
    "    filter_value_input = widgets.Text(description=\"Filter Value:\")\n",
    "\n",
    "    # Create output widget for displaying sorted or filtered data\n",
    "    output = widgets.Output()\n",
    "\n",
    "    # Define sorting and filtering functions\n",
    "    def sort_data(column):\n",
    "        # Sort data by selected column\n",
    "        sorted_data = data.sort_values(by=column)\n",
    "        with output:\n",
    "            display(sorted_data)\n",
    "\n",
    "    def filter_data(column, filter_value):\n",
    "        # Filter data by selected column and value\n",
    "        filtered_data = data[data[column] == filter_value]\n",
    "        with output:\n",
    "            display(filtered_data)\n",
    "\n",
    "    # Connect buttons to sorting and filtering functions\n",
    "    sort_button.on_click(lambda b: sort_data(column_dropdown.value))\n",
    "    filter_button.on_click(lambda b: filter_data(column_dropdown.value, filter_value_input.value))\n",
    "\n",
    "    # Display widgets\n",
    "    display(column_dropdown)\n",
    "    display(filter_value_input)\n",
    "    display(filter_button)\n",
    "    display(sort_button)\n",
    "    display(output)\n",
    "\n",
    "#start of predefine code \n",
    "def display_plot(xaxis, yaxis, graph_type):\n",
    "    global new_df\n",
    "    global input_title\n",
    "    global input_fontsize\n",
    "    if(graph_type == 'bubble'):\n",
    "        plt.subplots(figsize=(19,8))\n",
    "        rgb = np.random.rand(3)\n",
    "        #Write Condition here\n",
    "\n",
    "        #End of write condition here \n",
    "        plt.title(input_title.value, fontsize=input_fontsize.value)\n",
    "        plt.xlabel(xaxis, fontsize=input_fontsize.value)\n",
    "        plt.xticks(rotation='vertical')\n",
    "        plt.ylabel(yaxis, fontsize=input_fontsize.value)\n",
    "        plt.show()\n",
    "    elif(graph_type == 'bar'):\n",
    "        plt.subplots(figsize=(19,8))\n",
    "        plt.bar(new_df[xaxis], new_df[yaxis], color=['red', 'green','blue','yellow','pink'])\n",
    "        plt.title(input_title.value, fontsize=input_fontsize.value)\n",
    "        plt.xlabel(xaxis, fontsize=input_fontsize.value)\n",
    "        plt.xticks(rotation='vertical')\n",
    "        plt.ylabel(yaxis, fontsize=input_fontsize.value)\n",
    "        plt.show()\n",
    "    else:\n",
    "        print(\"Choose valid graph\")\n",
    "fileselect = widgets.Button(description=\"File select\")\n",
    "fileselect.on_click(select_files)\n",
    "display(fileselect)\n",
    "#end of predefined\n"
   ]
  },
  {
   "cell_type": "code",
   "execution_count": null,
   "metadata": {},
   "outputs": [],
   "source": []
  }
 ],
 "metadata": {
  "kernelspec": {
   "display_name": "Python 3 (ipykernel)",
   "language": "python",
   "name": "python3"
  },
  "language_info": {
   "codemirror_mode": {
    "name": "ipython",
    "version": 3
   },
   "file_extension": ".py",
   "mimetype": "text/x-python",
   "name": "python",
   "nbconvert_exporter": "python",
   "pygments_lexer": "ipython3",
   "version": "3.9.13"
  }
 },
 "nbformat": 4,
 "nbformat_minor": 4
}
